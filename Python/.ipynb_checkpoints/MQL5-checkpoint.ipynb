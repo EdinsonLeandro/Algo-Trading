{
 "cells": [
  {
   "cell_type": "markdown",
   "metadata": {},
   "source": [
    "# Python - MQL5 integration"
   ]
  },
  {
   "cell_type": "code",
   "execution_count": 1,
   "metadata": {},
   "outputs": [],
   "source": [
    "# Import packges\n",
    "import MetaTrader5 as mt5\n",
    "from datetime import datetime\n",
    "import pandas as pd\n",
    "import sys\n",
    "\n",
    "# Plots\n",
    "from matplotlib import pyplot as plt\n",
    "import mplfinance as mpf\n",
    "import seaborn as sns\n",
    "\n",
    "# Package to work with Time zone\n",
    "import pytz"
   ]
  },
  {
   "cell_type": "code",
   "execution_count": 2,
   "metadata": {},
   "outputs": [],
   "source": [
    "sns.set()"
   ]
  },
  {
   "cell_type": "code",
   "execution_count": 3,
   "metadata": {},
   "outputs": [
    {
     "data": {
      "text/plain": [
       "'3.6.13 |Anaconda, Inc.| (default, Mar 16 2021, 11:37:27) [MSC v.1916 64 bit (AMD64)]'"
      ]
     },
     "execution_count": 3,
     "metadata": {},
     "output_type": "execute_result"
    }
   ],
   "source": [
    "# This notebook is using python 3.6. I had problems to import seaborn package for python 3.8.5\n",
    "sys.version"
   ]
  },
  {
   "cell_type": "code",
   "execution_count": 4,
   "metadata": {},
   "outputs": [],
   "source": [
    "# Initialize terminal\n",
    "if not mt5.initialize():\n",
    "    print(\"Initialize failed\")\n",
    "    mt5.shutdown()"
   ]
  },
  {
   "cell_type": "code",
   "execution_count": 5,
   "metadata": {},
   "outputs": [],
   "source": [
    "info = mt5.terminal_info()"
   ]
  },
  {
   "cell_type": "code",
   "execution_count": 6,
   "metadata": {},
   "outputs": [
    {
     "data": {
      "text/plain": [
       "TerminalInfo(community_account=False, community_connection=False, connected=True, dlls_allowed=False, trade_allowed=False, tradeapi_disabled=False, email_enabled=False, ftp_enabled=False, notifications_enabled=False, mqid=False, build=2981, maxbars=100000, codepage=0, ping_last=194318, community_balance=0.0, retransmission=1.7764511020913345, company='HF Markets (SV) Ltd.', name='HotForex MetaTrader 5', language='English', path='C:\\\\Program Files\\\\HotForex MetaTrader 5', ...)"
      ]
     },
     "execution_count": 6,
     "metadata": {},
     "output_type": "execute_result"
    }
   ],
   "source": [
    "info"
   ]
  },
  {
   "cell_type": "code",
   "execution_count": 7,
   "metadata": {},
   "outputs": [
    {
     "data": {
      "text/plain": [
       "'HF Markets (SV) Ltd.'"
      ]
     },
     "execution_count": 7,
     "metadata": {},
     "output_type": "execute_result"
    }
   ],
   "source": [
    "# Broker's name\n",
    "info.company"
   ]
  },
  {
   "cell_type": "code",
   "execution_count": 8,
   "metadata": {},
   "outputs": [
    {
     "data": {
      "text/plain": [
       "(500, 2981, '21 Jun 2021')"
      ]
     },
     "execution_count": 8,
     "metadata": {},
     "output_type": "execute_result"
    }
   ],
   "source": [
    "mt5.version()"
   ]
  },
  {
   "cell_type": "code",
   "execution_count": 9,
   "metadata": {},
   "outputs": [],
   "source": [
    "# Just in case we want to apply time zone corrections\n",
    "# UTC Time zone\n",
    "timezone = pytz.timezone(\"Etc/UTC\")\n",
    "\n",
    "# Datetime object without time zone variation\n",
    "utc_from = datetime(2020, 1, 10, tzinfo=timezone)"
   ]
  },
  {
   "cell_type": "markdown",
   "metadata": {},
   "source": [
    "### Request data from MetaTrader 5 terminal"
   ]
  },
  {
   "cell_type": "code",
   "execution_count": 10,
   "metadata": {},
   "outputs": [],
   "source": [
    "date = datetime(2021,1,28,13)\n",
    "n_bars = 500\n",
    "\n",
    "# Let's try the different methods to request data. 15 mins data.\n",
    "# The last 'n_bars' from specified date to current date\n",
    "eurusd_rates = mt5.copy_rates_from(\"EURUSD\", mt5.TIMEFRAME_M15, datetime(2021,6,28,13), n_bars)\n",
    "\n",
    "# The last 'n_bars' from current date\n",
    "eurgbp_rates = mt5.copy_rates_from_pos(\"EURGBP\", mt5.TIMEFRAME_M15, 0, n_bars)\n",
    "\n",
    "# Data between specified interval datetime\n",
    "eurcad_rates = mt5.copy_rates_range(\"EURCAD\", mt5.TIMEFRAME_M15, datetime(2021,6,1,13), datetime(2021,6,30,13))"
   ]
  },
  {
   "cell_type": "code",
   "execution_count": 11,
   "metadata": {},
   "outputs": [],
   "source": [
    "# Dataframe EURGPD data\n",
    "df_eurgbp = pd.DataFrame(eurgbp_rates)"
   ]
  },
  {
   "cell_type": "code",
   "execution_count": 12,
   "metadata": {},
   "outputs": [
    {
     "data": {
      "text/html": [
       "<div>\n",
       "<style scoped>\n",
       "    .dataframe tbody tr th:only-of-type {\n",
       "        vertical-align: middle;\n",
       "    }\n",
       "\n",
       "    .dataframe tbody tr th {\n",
       "        vertical-align: top;\n",
       "    }\n",
       "\n",
       "    .dataframe thead th {\n",
       "        text-align: right;\n",
       "    }\n",
       "</style>\n",
       "<table border=\"1\" class=\"dataframe\">\n",
       "  <thead>\n",
       "    <tr style=\"text-align: right;\">\n",
       "      <th></th>\n",
       "      <th>time</th>\n",
       "      <th>open</th>\n",
       "      <th>high</th>\n",
       "      <th>low</th>\n",
       "      <th>close</th>\n",
       "      <th>tick_volume</th>\n",
       "      <th>spread</th>\n",
       "      <th>real_volume</th>\n",
       "    </tr>\n",
       "  </thead>\n",
       "  <tbody>\n",
       "    <tr>\n",
       "      <th>0</th>\n",
       "      <td>1624646700</td>\n",
       "      <td>0.85911</td>\n",
       "      <td>0.85923</td>\n",
       "      <td>0.85868</td>\n",
       "      <td>0.85902</td>\n",
       "      <td>369</td>\n",
       "      <td>14</td>\n",
       "      <td>0</td>\n",
       "    </tr>\n",
       "    <tr>\n",
       "      <th>1</th>\n",
       "      <td>1624647600</td>\n",
       "      <td>0.85902</td>\n",
       "      <td>0.85913</td>\n",
       "      <td>0.85872</td>\n",
       "      <td>0.85878</td>\n",
       "      <td>240</td>\n",
       "      <td>14</td>\n",
       "      <td>0</td>\n",
       "    </tr>\n",
       "    <tr>\n",
       "      <th>2</th>\n",
       "      <td>1624648500</td>\n",
       "      <td>0.85880</td>\n",
       "      <td>0.85886</td>\n",
       "      <td>0.85830</td>\n",
       "      <td>0.85830</td>\n",
       "      <td>263</td>\n",
       "      <td>14</td>\n",
       "      <td>0</td>\n",
       "    </tr>\n",
       "    <tr>\n",
       "      <th>3</th>\n",
       "      <td>1624649400</td>\n",
       "      <td>0.85831</td>\n",
       "      <td>0.85837</td>\n",
       "      <td>0.85805</td>\n",
       "      <td>0.85822</td>\n",
       "      <td>230</td>\n",
       "      <td>14</td>\n",
       "      <td>0</td>\n",
       "    </tr>\n",
       "    <tr>\n",
       "      <th>4</th>\n",
       "      <td>1624650300</td>\n",
       "      <td>0.85822</td>\n",
       "      <td>0.85881</td>\n",
       "      <td>0.85822</td>\n",
       "      <td>0.85862</td>\n",
       "      <td>231</td>\n",
       "      <td>14</td>\n",
       "      <td>0</td>\n",
       "    </tr>\n",
       "  </tbody>\n",
       "</table>\n",
       "</div>"
      ],
      "text/plain": [
       "         time     open     high      low    close  tick_volume  spread  \\\n",
       "0  1624646700  0.85911  0.85923  0.85868  0.85902          369      14   \n",
       "1  1624647600  0.85902  0.85913  0.85872  0.85878          240      14   \n",
       "2  1624648500  0.85880  0.85886  0.85830  0.85830          263      14   \n",
       "3  1624649400  0.85831  0.85837  0.85805  0.85822          230      14   \n",
       "4  1624650300  0.85822  0.85881  0.85822  0.85862          231      14   \n",
       "\n",
       "   real_volume  \n",
       "0            0  \n",
       "1            0  \n",
       "2            0  \n",
       "3            0  \n",
       "4            0  "
      ]
     },
     "execution_count": 12,
     "metadata": {},
     "output_type": "execute_result"
    }
   ],
   "source": [
    "df_eurgbp.head()"
   ]
  },
  {
   "cell_type": "code",
   "execution_count": 13,
   "metadata": {},
   "outputs": [],
   "source": [
    "# Covert to datetime object 'time' column\n",
    "df_eurgbp['time']=pd.to_datetime(df_eurgbp['time'], unit='s')"
   ]
  },
  {
   "cell_type": "code",
   "execution_count": 14,
   "metadata": {},
   "outputs": [],
   "source": [
    "# Set time column to index\n",
    "df_eurgbp.set_index(df_eurgbp['time'], inplace=True)\n",
    "\n",
    "# Drop time colum\n",
    "df_eurgbp.drop(['time'], axis=1, inplace=True)\n",
    "\n",
    "# Drop 'real_volume' column. It does not have any information\n",
    "df_eurgbp.drop(['real_volume'], axis=1, inplace=True)"
   ]
  },
  {
   "cell_type": "code",
   "execution_count": 15,
   "metadata": {},
   "outputs": [
    {
     "data": {
      "text/html": [
       "<div>\n",
       "<style scoped>\n",
       "    .dataframe tbody tr th:only-of-type {\n",
       "        vertical-align: middle;\n",
       "    }\n",
       "\n",
       "    .dataframe tbody tr th {\n",
       "        vertical-align: top;\n",
       "    }\n",
       "\n",
       "    .dataframe thead th {\n",
       "        text-align: right;\n",
       "    }\n",
       "</style>\n",
       "<table border=\"1\" class=\"dataframe\">\n",
       "  <thead>\n",
       "    <tr style=\"text-align: right;\">\n",
       "      <th></th>\n",
       "      <th>open</th>\n",
       "      <th>high</th>\n",
       "      <th>low</th>\n",
       "      <th>close</th>\n",
       "      <th>tick_volume</th>\n",
       "      <th>spread</th>\n",
       "    </tr>\n",
       "    <tr>\n",
       "      <th>time</th>\n",
       "      <th></th>\n",
       "      <th></th>\n",
       "      <th></th>\n",
       "      <th></th>\n",
       "      <th></th>\n",
       "      <th></th>\n",
       "    </tr>\n",
       "  </thead>\n",
       "  <tbody>\n",
       "    <tr>\n",
       "      <th>2021-06-25 18:45:00</th>\n",
       "      <td>0.85911</td>\n",
       "      <td>0.85923</td>\n",
       "      <td>0.85868</td>\n",
       "      <td>0.85902</td>\n",
       "      <td>369</td>\n",
       "      <td>14</td>\n",
       "    </tr>\n",
       "    <tr>\n",
       "      <th>2021-06-25 19:00:00</th>\n",
       "      <td>0.85902</td>\n",
       "      <td>0.85913</td>\n",
       "      <td>0.85872</td>\n",
       "      <td>0.85878</td>\n",
       "      <td>240</td>\n",
       "      <td>14</td>\n",
       "    </tr>\n",
       "    <tr>\n",
       "      <th>2021-06-25 19:15:00</th>\n",
       "      <td>0.85880</td>\n",
       "      <td>0.85886</td>\n",
       "      <td>0.85830</td>\n",
       "      <td>0.85830</td>\n",
       "      <td>263</td>\n",
       "      <td>14</td>\n",
       "    </tr>\n",
       "    <tr>\n",
       "      <th>2021-06-25 19:30:00</th>\n",
       "      <td>0.85831</td>\n",
       "      <td>0.85837</td>\n",
       "      <td>0.85805</td>\n",
       "      <td>0.85822</td>\n",
       "      <td>230</td>\n",
       "      <td>14</td>\n",
       "    </tr>\n",
       "    <tr>\n",
       "      <th>2021-06-25 19:45:00</th>\n",
       "      <td>0.85822</td>\n",
       "      <td>0.85881</td>\n",
       "      <td>0.85822</td>\n",
       "      <td>0.85862</td>\n",
       "      <td>231</td>\n",
       "      <td>14</td>\n",
       "    </tr>\n",
       "  </tbody>\n",
       "</table>\n",
       "</div>"
      ],
      "text/plain": [
       "                        open     high      low    close  tick_volume  spread\n",
       "time                                                                        \n",
       "2021-06-25 18:45:00  0.85911  0.85923  0.85868  0.85902          369      14\n",
       "2021-06-25 19:00:00  0.85902  0.85913  0.85872  0.85878          240      14\n",
       "2021-06-25 19:15:00  0.85880  0.85886  0.85830  0.85830          263      14\n",
       "2021-06-25 19:30:00  0.85831  0.85837  0.85805  0.85822          230      14\n",
       "2021-06-25 19:45:00  0.85822  0.85881  0.85822  0.85862          231      14"
      ]
     },
     "execution_count": 15,
     "metadata": {},
     "output_type": "execute_result"
    }
   ],
   "source": [
    "df_eurgbp.head()"
   ]
  },
  {
   "cell_type": "code",
   "execution_count": 16,
   "metadata": {},
   "outputs": [
    {
     "data": {
      "text/plain": [
       "array([ 14,  18,  19, 117,  84,  36,  63,  44,  23,  15,  41,  43,  39,\n",
       "        48,  17,  22,  30,  33,  46,  32,  20], dtype=int32)"
      ]
     },
     "execution_count": 16,
     "metadata": {},
     "output_type": "execute_result"
    }
   ],
   "source": [
    "# Print unique values for spread. According to this data, the spread does not remain constant\n",
    "df_eurgbp['spread'].unique()"
   ]
  },
  {
   "cell_type": "code",
   "execution_count": 17,
   "metadata": {},
   "outputs": [
    {
     "data": {
      "image/png": "[encoded data removed]",
      "text/plain": [
       "<Figure size 504x432 with 1 Axes>"
      ]
     },
     "metadata": {},
     "output_type": "display_data"
    }
   ],
   "source": [
    "# Plot histogram for spread values\n",
    "\n",
    "ax = df_eurgbp['spread'].hist(figsize=(7,6));\n",
    "ax.set_title('Spread distribution');\n",
    "ax.set_xlabel('Spread values');\n",
    "ax.set_ylabel('Count');"
   ]
  },
  {
   "cell_type": "markdown",
   "metadata": {},
   "source": [
    "The most spread values are around 20 pips. Now, we are going to select spread values under 25 pips."
   ]
  },
  {
   "cell_type": "code",
   "execution_count": 18,
   "metadata": {},
   "outputs": [
    {
     "data": {
      "image/png": "[encoded data removed]",
      "text/plain": [
       "<Figure size 504x432 with 1 Axes>"
      ]
     },
     "metadata": {},
     "output_type": "display_data"
    }
   ],
   "source": [
    "ax = df_eurgbp['spread'][df_eurgbp['spread'] < 25].hist(figsize=(7,6))\n",
    "ax.set_title('Spread distribution under 25');\n",
    "ax.set_xlabel('Spread');\n",
    "ax.set_ylabel('Count');"
   ]
  },
  {
   "cell_type": "markdown",
   "metadata": {},
   "source": [
    "The spread values are the most of the time (but not always) equals to 14 pips."
   ]
  },
  {
   "cell_type": "code",
   "execution_count": 28,
   "metadata": {},
   "outputs": [
    {
     "data": {
      "image/png": "[encoded data removed]",
      "text/plain": [
       "<Figure size 821.429x575 with 2 Axes>"
      ]
     },
     "metadata": {},
     "output_type": "display_data"
    }
   ],
   "source": [
    "# Plot candlestick data for any single date\n",
    "date = '2021-06-30'\n",
    "mc = mpf.make_marketcolors(up='g', down='r')\n",
    "\n",
    "# Create a style based on seaborn only add: base_mpl_style='seaborn'\n",
    "style = mpf.make_mpf_style(marketcolors=mc);\n",
    "\n",
    "# Plot with custom style\n",
    "mpf.plot(df_eurgbp[['open', 'high', 'low', 'close']][date], type= 'candle', volume=False, show_nontrading=True,\n",
    "                                                            title='EURGBP on '+ date, style=style, figratio=(10,7));"
   ]
  },
  {
   "cell_type": "code",
   "execution_count": 20,
   "metadata": {},
   "outputs": [
    {
     "data": {
      "text/plain": [
       "array([(1625072400, 1.46887, 1.46922, 1.46773, 1.46791, 1508, 18, 0),\n",
       "       (1625071500, 1.46863, 1.46921, 1.46818, 1.46886, 2070, 18, 0),\n",
       "       (1625070600, 1.47045, 1.47046, 1.46828, 1.46865, 1977, 18, 0), ...,\n",
       "       (1622568600, 1.47281, 1.47318, 1.47253, 1.47303, 1629, 18, 0),\n",
       "       (1622567700, 1.47181, 1.47326, 1.47179, 1.47281, 2084, 18, 0),\n",
       "       (1622566800, 1.47093, 1.47224, 1.47043, 1.47182, 2534, 18, 0)],\n",
       "      dtype=[('time', '<i8'), ('open', '<f8'), ('high', '<f8'), ('low', '<f8'), ('close', '<f8'), ('tick_volume', '<u8'), ('spread', '<i4'), ('real_volume', '<u8')])"
      ]
     },
     "execution_count": 20,
     "metadata": {},
     "output_type": "execute_result"
    }
   ],
   "source": [
    "# Reorder array. The first row will be the current value\n",
    "eurcad_rates[::-1]"
   ]
  },
  {
   "cell_type": "code",
   "execution_count": null,
   "metadata": {},
   "outputs": [],
   "source": []
  }
 ],
 "metadata": {
  "kernelspec": {
   "display_name": "Python 3",
   "language": "python",
   "name": "python3"
  },
  "language_info": {
   "codemirror_mode": {
    "name": "ipython",
    "version": 3
   },
   "file_extension": ".py",
   "mimetype": "text/x-python",
   "name": "python",
   "nbconvert_exporter": "python",
   "pygments_lexer": "ipython3",
   "version": "3.6.13"
  }
 },
 "nbformat": 4,
 "nbformat_minor": 4
}
