{
 "cells": [
  {
   "cell_type": "markdown",
   "metadata": {},
   "source": [
    "Load data from Alpha Vantage and calculate the correlation between stocks in the same sector. The correlation could be calculated with 5-min, 15-min and 30-min data in order to see the differences.\n",
    "\n",
    "Alpha Vantage Limitations: 5 calls per minute and 500 calls per day. "
   ]
  },
  {
   "cell_type": "code",
   "execution_count": 5,
   "metadata": {},
   "outputs": [],
   "source": [
    "from alpha_vantage.timeseries import TimeSeries\n",
    "from matplotlib import pyplot as plt\n",
    "import time\n",
    "import mplfinance as mpf\n",
    "import seaborn as sns\n",
    "import pandas as pd\n",
    "import datetime\n",
    "import numpy as np"
   ]
  },
  {
   "cell_type": "code",
   "execution_count": 2,
   "metadata": {},
   "outputs": [],
   "source": [
    "ts = TimeSeries(key='EM90IQSBJANXDHGE', output_format='pandas')"
   ]
  },
  {
   "cell_type": "code",
   "execution_count": null,
   "metadata": {},
   "outputs": [],
   "source": [
    "data_5min, meta_data = ts.get_intraday(symbol='WMT',interval='5min', outputsize='full')"
   ]
  },
  {
   "cell_type": "code",
   "execution_count": null,
   "metadata": {},
   "outputs": [],
   "source": [
    "data_5min.columns = ['Open', 'High', 'Low', 'Close', 'Volume']"
   ]
  },
  {
   "cell_type": "code",
   "execution_count": null,
   "metadata": {},
   "outputs": [],
   "source": [
    "# data.iloc[::-1]. The data comes in reversal order (from old to newest data)\n",
    "# \"between_time\". Filter data only when market is open\n",
    "\n",
    "wmt_5min = data_5min.iloc[::-1].between_time('9:35', '16:05')"
   ]
  },
  {
   "cell_type": "code",
   "execution_count": null,
   "metadata": {},
   "outputs": [],
   "source": [
    "# Substract 5 minutes from index. DateTime index comes with 5-mins shift\n",
    "\n",
    "wmt_5min.index = wmt_5min.index + pd.Timedelta(minutes=-5)"
   ]
  },
  {
   "cell_type": "code",
   "execution_count": null,
   "metadata": {},
   "outputs": [],
   "source": [
    "mpf.plot(wmt_5min, type='candle', volume=True, show_nontrading=False, style='default', figscale=1.1, panel_ratios=(3,1))"
   ]
  },
  {
   "cell_type": "code",
   "execution_count": null,
   "metadata": {},
   "outputs": [],
   "source": []
  },
  {
   "cell_type": "code",
   "execution_count": null,
   "metadata": {},
   "outputs": [],
   "source": [
    "data_15min, meta_data = ts.get_intraday(symbol='WMT',interval='15min', outputsize='full')\n",
    "data_15min.columns = ['Open', 'High', 'Low', 'Close', 'Volume']"
   ]
  },
  {
   "cell_type": "code",
   "execution_count": null,
   "metadata": {},
   "outputs": [],
   "source": [
    "# data.iloc[::-1]. The data comes in reversal order (from old to newest data)\n",
    "# \"between_time\". Filter data only when market is open\n",
    "\n",
    "wmt_15min = data_15min.iloc[::-1].between_time('9:45', '16:15')"
   ]
  },
  {
   "cell_type": "code",
   "execution_count": null,
   "metadata": {},
   "outputs": [],
   "source": [
    "# Substract 15 minutes from index. DateTime index comes with 15-mins shift\n",
    "\n",
    "wmt_15min.index = wmt_15min.index + pd.Timedelta(minutes=-15)"
   ]
  },
  {
   "cell_type": "code",
   "execution_count": null,
   "metadata": {},
   "outputs": [],
   "source": [
    "mpf.plot(wmt_15min, type='candle', volume=True, show_nontrading=False, style='default', figscale=1.1, panel_ratios=(3,1))"
   ]
  },
  {
   "cell_type": "code",
   "execution_count": null,
   "metadata": {},
   "outputs": [],
   "source": []
  },
  {
   "cell_type": "code",
   "execution_count": null,
   "metadata": {},
   "outputs": [],
   "source": []
  },
  {
   "cell_type": "code",
   "execution_count": null,
   "metadata": {},
   "outputs": [],
   "source": [
    "data_30min, meta_data = ts.get_intraday(symbol='WMT',interval='30min', outputsize='full')\n",
    "data_30min.columns = ['Open', 'High', 'Low', 'Close', 'Volume']"
   ]
  },
  {
   "cell_type": "code",
   "execution_count": null,
   "metadata": {},
   "outputs": [],
   "source": [
    "# data.iloc[::-1]. The data comes in reversal order (from old to newest data)\n",
    "# \"between_time\". Filter data only when market is open\n",
    "\n",
    "wmt_30min = data_30min.iloc[::-1].between_time('9:45', '16:30')"
   ]
  },
  {
   "cell_type": "code",
   "execution_count": null,
   "metadata": {},
   "outputs": [],
   "source": [
    "# Substract 30 minutes from index. DateTime index comes with 30-mins shift\n",
    "\n",
    "wmt_30min.index = wmt_30min.index + pd.Timedelta(minutes=-30)"
   ]
  },
  {
   "cell_type": "code",
   "execution_count": null,
   "metadata": {},
   "outputs": [],
   "source": [
    "# mpf.plot(wmt_30min, type='candle', volume=True, show_nontrading=False, style='default', figscale=1.1, panel_ratios=(3,1))"
   ]
  },
  {
   "cell_type": "code",
   "execution_count": null,
   "metadata": {},
   "outputs": [],
   "source": []
  },
  {
   "cell_type": "markdown",
   "metadata": {},
   "source": [
    "## Analisis with 30-min data"
   ]
  },
  {
   "cell_type": "markdown",
   "metadata": {},
   "source": [
    "### Consumer Staples"
   ]
  },
  {
   "cell_type": "code",
   "execution_count": 3,
   "metadata": {},
   "outputs": [],
   "source": [
    "# Kellogg's - Kimberly-Clark - Kroger - Procter & Gamble - Walmart\n",
    "consumer_staples = ['CAG', 'CL', 'CLX', 'DG', 'GIS', 'K', 'KDP', 'KMB', 'KR', 'PG', 'WMT']"
   ]
  },
  {
   "cell_type": "code",
   "execution_count": 6,
   "metadata": {},
   "outputs": [],
   "source": [
    "# \"data\": Dictionary. Each item is a DataFrame.\n",
    "data = {}\n",
    "\n",
    "for item in consumer_staples:\n",
    "    # Get data from AlphaVantage\n",
    "    df, meta_data = ts.get_intraday(symbol=item, interval='30min', outputsize='full')\n",
    "    \n",
    "    # Rename Columns and Index names\n",
    "    df.columns = ['Open', 'High', 'Low', 'Close', 'Volume']\n",
    "    df.index.name = 'Date'\n",
    "    \n",
    "    # Reverse data and select time interval only into market open \n",
    "    df = df.iloc[::-1].between_time('9:45', '16:30')\n",
    "    \n",
    "    # Substract 30 minutes shift.\n",
    "    df.index = df.index + pd.Timedelta(minutes=-30)\n",
    "    \n",
    "    # Save into dictionary\n",
    "    data[item] = df\n",
    "    \n",
    "    # Sleep for loop execution if I am going to do more than 5 request/min.\n",
    "    time.sleep(12)"
   ]
  },
  {
   "cell_type": "code",
   "execution_count": 7,
   "metadata": {},
   "outputs": [],
   "source": [
    "# 30-min returns calculation in each DataFrame\n",
    "\n",
    "for stock, df in data.items():\n",
    "    df['Return'] = df['Close'].pct_change(periods=1, fill_method='pad', limit=None)"
   ]
  },
  {
   "cell_type": "code",
   "execution_count": 8,
   "metadata": {},
   "outputs": [],
   "source": [
    "# Concatenate in one single DataFrame all 30-min Returns\n",
    "\n",
    "return_staples = pd.DataFrame()\n",
    "\n",
    "for stock, df in data.items():\n",
    "    return_staples = pd.concat([return_staples, data[stock]['Return']], axis=1)"
   ]
  },
  {
   "cell_type": "code",
   "execution_count": 9,
   "metadata": {},
   "outputs": [],
   "source": [
    "# Rename columns\n",
    "return_staples.columns = consumer_staples"
   ]
  },
  {
   "cell_type": "code",
   "execution_count": 13,
   "metadata": {},
   "outputs": [
    {
     "data": {
      "image/png": "[encoded data removed]",
      "text/plain": [
       "<Figure size 864x864 with 2 Axes>"
      ]
     },
     "metadata": {
      "needs_background": "light"
     },
     "output_type": "display_data"
    }
   ],
   "source": [
    "# Correlation Matrix\n",
    "matrix_corr_return_staples = return_staples.corr()\n",
    "\n",
    "# Generate a mask for the upper triangle\n",
    "mask = np.triu(np.ones_like(matrix_corr_return_staples, dtype=np.bool))\n",
    "\n",
    "# Set up the matplotlib figure\n",
    "f, ax = plt.subplots(figsize=(12, 12))\n",
    "\n",
    "# Draw the heatmap with the mask and correct aspect ratio\n",
    "sns.heatmap(matrix_corr_return_staples, mask=mask, vmin=-0.1 , vmax=0.6, center=0.35,\n",
    "            square=True, linewidths=.5, cbar_kws={\"shrink\": .5}, annot=True);\n",
    "plt.title('Correlation Matrix between 30-min Return: Consumer Staples');"
   ]
  },
  {
   "cell_type": "code",
   "execution_count": 14,
   "metadata": {},
   "outputs": [
    {
     "data": {
      "image/png": "[encoded data removed]",
      "text/plain": [
       "<Figure size 432x288 with 1 Axes>"
      ]
     },
     "metadata": {
      "needs_background": "light"
     },
     "output_type": "display_data"
    }
   ],
   "source": [
    "# BoxPlot\n",
    "\n",
    "sns.boxplot(data=return_staples.dropna());\n",
    "plt.title('30-min Returns: Consumer Staples');"
   ]
  },
  {
   "cell_type": "code",
   "execution_count": 15,
   "metadata": {},
   "outputs": [
    {
     "data": {
      "text/plain": [
       "WMT    0.001675\n",
       "DG     0.003073\n",
       "PG     0.005769\n",
       "CL     0.005867\n",
       "KDP    0.006358\n",
       "KR     0.006849\n",
       "CAG    0.006853\n",
       "CLX    0.007680\n",
       "KMB    0.008276\n",
       "K      0.008546\n",
       "GIS    0.009572\n",
       "dtype: float64"
      ]
     },
     "execution_count": 15,
     "metadata": {},
     "output_type": "execute_result"
    }
   ],
   "source": [
    "# Average Pearson Coefficient\n",
    "\n",
    "((matrix_corr_return_staples.sum(axis=1) - 1)/len(return_staples)).sort_values()"
   ]
  },
  {
   "cell_type": "code",
   "execution_count": null,
   "metadata": {},
   "outputs": [],
   "source": []
  },
  {
   "cell_type": "code",
   "execution_count": null,
   "metadata": {},
   "outputs": [],
   "source": []
  },
  {
   "cell_type": "code",
   "execution_count": null,
   "metadata": {},
   "outputs": [],
   "source": []
  },
  {
   "cell_type": "code",
   "execution_count": null,
   "metadata": {},
   "outputs": [],
   "source": []
  },
  {
   "cell_type": "code",
   "execution_count": null,
   "metadata": {},
   "outputs": [],
   "source": []
  }
 ],
 "metadata": {
  "kernelspec": {
   "display_name": "Python 3",
   "language": "python",
   "name": "python3"
  },
  "language_info": {
   "codemirror_mode": {
    "name": "ipython",
    "version": 3
   },
   "file_extension": ".py",
   "mimetype": "text/x-python",
   "name": "python",
   "nbconvert_exporter": "python",
   "pygments_lexer": "ipython3",
   "version": "3.7.3"
  }
 },
 "nbformat": 4,
 "nbformat_minor": 4
}
